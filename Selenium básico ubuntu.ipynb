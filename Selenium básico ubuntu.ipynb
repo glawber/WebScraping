{
 "cells": [
  {
   "cell_type": "markdown",
   "metadata": {},
   "source": [
    "# Exemplo de uso Selenium básico no Ubuntu"
   ]
  },
  {
   "cell_type": "markdown",
   "metadata": {},
   "source": [
    "## Webdriver"
   ]
  },
  {
   "cell_type": "markdown",
   "metadata": {},
   "source": [
    "- Exemplo usando o site da Anbima para realizar busca de fundos\n"
   ]
  },
  {
   "cell_type": "code",
   "execution_count": 1,
   "metadata": {
    "ExecuteTime": {
     "end_time": "2021-05-06T17:24:05.076121Z",
     "start_time": "2021-05-06T17:24:05.069085Z"
    }
   },
   "outputs": [],
   "source": [
    "from selenium import webdriver"
   ]
  },
  {
   "cell_type": "markdown",
   "metadata": {},
   "source": [
    "- se define previamente o webdriver (chrome)\n",
    "\n",
    "- Na primeira vez que rodamos, o webdriver não localiza o arquivo e temos que baixá-lo no site: `https://sites.google.com/a/chromium.org/chromedriver/home`"
   ]
  },
  {
   "cell_type": "code",
   "execution_count": 2,
   "metadata": {
    "ExecuteTime": {
     "end_time": "2021-05-06T17:24:05.947546Z",
     "start_time": "2021-05-06T17:24:05.943559Z"
    }
   },
   "outputs": [],
   "source": [
    "url = 'https://data.anbima.com.br/'"
   ]
  },
  {
   "cell_type": "code",
   "execution_count": 4,
   "metadata": {
    "ExecuteTime": {
     "end_time": "2021-05-06T17:24:14.863998Z",
     "start_time": "2021-05-06T17:24:06.463678Z"
    }
   },
   "outputs": [],
   "source": [
    "#driver = webdriver.Chrome('chromedriver.exe')\n",
    "driver = webdriver.Chrome('./chromedriver')\n",
    "driver.get(url)"
   ]
  },
  {
   "cell_type": "code",
   "execution_count": 5,
   "metadata": {
    "ExecuteTime": {
     "end_time": "2021-05-06T17:24:23.634607Z",
     "start_time": "2021-05-06T17:24:17.361752Z"
    }
   },
   "outputs": [],
   "source": [
    "driver.close() # close tab\n",
    "driver.quit() # quit driver"
   ]
  },
  {
   "cell_type": "markdown",
   "metadata": {},
   "source": [
    "- título do site e imprimí-lo"
   ]
  },
  {
   "cell_type": "code",
   "execution_count": 6,
   "metadata": {
    "ExecuteTime": {
     "end_time": "2021-05-06T17:09:54.347599Z",
     "start_time": "2021-05-06T17:09:43.429438Z"
    }
   },
   "outputs": [
    {
     "name": "stdout",
     "output_type": "stream",
     "text": [
      "ANBIMA Data\n"
     ]
    }
   ],
   "source": [
    "driver = webdriver.Chrome('./chromedriver')\n",
    "driver.get(url)\n",
    "print(driver.title) # informa o site\n",
    "driver.quit() # quit driver"
   ]
  },
  {
   "cell_type": "markdown",
   "metadata": {},
   "source": [
    "## Localizando elementos no HTML"
   ]
  },
  {
   "cell_type": "code",
   "execution_count": 7,
   "metadata": {
    "ExecuteTime": {
     "end_time": "2021-05-06T17:24:25.125149Z",
     "start_time": "2021-05-06T17:24:25.121153Z"
    }
   },
   "outputs": [],
   "source": [
    "from selenium.webdriver.common.keys import Keys\n",
    "import time"
   ]
  },
  {
   "cell_type": "code",
   "execution_count": 8,
   "metadata": {
    "ExecuteTime": {
     "end_time": "2020-07-04T01:21:52.775628Z",
     "start_time": "2020-07-04T01:21:52.770627Z"
    }
   },
   "outputs": [
    {
     "name": "stdout",
     "output_type": "stream",
     "text": [
      "https://data.anbima.com.br/\n"
     ]
    }
   ],
   "source": [
    "print(url)"
   ]
  },
  {
   "cell_type": "code",
   "execution_count": 9,
   "metadata": {
    "ExecuteTime": {
     "end_time": "2021-05-06T17:17:51.771878Z",
     "start_time": "2021-05-06T17:17:51.762869Z"
    }
   },
   "outputs": [],
   "source": [
    "busca = 'VERDE'"
   ]
  },
  {
   "cell_type": "markdown",
   "metadata": {},
   "source": [
    "- Cada elemento tem a classe `anbima-ui-input-search__text`\n",
    "\n",
    "Podemos imprimir o texto de cada fundo pra certificar que está vindo corretamente"
   ]
  },
  {
   "cell_type": "code",
   "execution_count": 11,
   "metadata": {
    "ExecuteTime": {
     "end_time": "2021-05-06T18:02:23.983178Z",
     "start_time": "2021-05-06T18:02:10.840345Z"
    },
    "scrolled": true
   },
   "outputs": [
    {
     "name": "stdout",
     "output_type": "stream",
     "text": [
      "VERDE FICFI MULT\n",
      "Ver detalhes\n",
      "CNPJ\n",
      "22.187.946/0001-41\n",
      "MULTIMERCADOS\n",
      "Gestor\n",
      "VERDE ASSET MANAGEMENT S.A.\n",
      "Aplicação inicial mínima\n",
      "R$ 5.000,00\n",
      "Patrimônio líquido (Ref. 07/10/2021)\n",
      "R$ 1.360.764.352,02\n",
      "Administrador\n",
      "INTRAG\n",
      "Característica do investidor\n",
      "Não há restrição\n",
      "Taxa de administração máxima\n",
      "-\n",
      "Rentabilidade (Ref. 07/10/2021)\n",
      "6.76% (últimos 12 meses)\n",
      "================================================================================\n",
      "VERDE AM PATRIMONIO FI MULT\n",
      "Ver detalhes\n",
      "CNPJ\n",
      "17.454.259/0001-05\n",
      "MULTIMERCADOS\n",
      "Gestor\n",
      "VERDE ASSET MANAGEMENT S.A.\n",
      "Aplicação inicial mínima\n",
      "R$ 50.000,00\n",
      "Patrimônio líquido (Ref. 07/10/2021)\n",
      "R$ 1.059.659.650,23\n",
      "Administrador\n",
      "INTRAG\n",
      "Característica do investidor\n",
      "Não há restrição\n",
      "Taxa de administração máxima\n",
      "-\n",
      "Rentabilidade (Ref. 07/10/2021)\n",
      "5.73% (últimos 12 meses)\n",
      "================================================================================\n",
      "VERDE AM G560 FC MULT\n",
      "Ver detalhes\n",
      "CNPJ\n",
      "39.895.070/0001-90\n",
      "MULTIMERCADOS\n",
      "Gestor\n",
      "VERDE ASSET MANAGEMENT S.A.\n",
      "Aplicação inicial mínima\n",
      "R$ 250.000,00\n",
      "Patrimônio líquido (Ref. 07/10/2021)\n",
      "R$ 105.300.794,89\n",
      "Administrador\n",
      "INTRAG\n",
      "Característica do investidor\n",
      "Não há restrição\n",
      "Taxa de administração máxima\n",
      "-\n",
      "Rentabilidade\n",
      "Não disponível\n",
      "================================================================================\n",
      "GASV11\n",
      "Calcular ativo\n",
      "Ver detalhes\n",
      "Emissor\n",
      "GAS VERDE S/A\n",
      "Remuneração\n",
      "DI + 3,5000%\n",
      "Data de vencimento\n",
      "16/06/2025\n",
      "Duration\n",
      "-\n",
      "Setor\n",
      "Petróleo e Gás\n",
      "Data da emissão\n",
      "15/03/2013\n",
      "PU PAR\n",
      "-\n",
      "Indicativo ANBIMA\n",
      "-\n",
      "================================================================================\n",
      "OVSA10\n",
      "Calcular ativo\n",
      "Ver detalhes\n",
      "Emissor\n",
      "OURO VERDE LOCACAO E SERVICOS S.A.\n",
      "Remuneração\n",
      "DI + 2,4000%\n",
      "Data de vencimento\n",
      "20/06/2026\n",
      "Duration\n",
      "-\n",
      "Setor\n",
      "Locação de Veículos\n",
      "Data da emissão\n",
      "20/06/2021\n",
      "PU PAR\n",
      "R$ 1.021,247091\n",
      "Indicativo ANBIMA\n",
      "-\n",
      "================================================================================\n",
      "OVSA16\n",
      "Calcular ativo\n",
      "Ver detalhes\n",
      "Emissor\n",
      "OURO VERDE LOCACAO E SERVICOS S.A.\n",
      "Remuneração\n",
      "IPCA + 4,4000%\n",
      "Data de vencimento\n",
      "15/06/2029\n",
      "Duration\n",
      "-\n",
      "Setor\n",
      "Locação de Veículos\n",
      "Data da emissão\n",
      "19/09/2017\n",
      "PU PAR\n",
      "R$ 1,073540\n",
      "Indicativo ANBIMA\n",
      "-\n",
      "================================================================================\n"
     ]
    }
   ],
   "source": [
    "#driver = webdriver.Chrome('chromedriver.exe')\n",
    "driver = webdriver.Chrome('./chromedriver')\n",
    "driver.get(url)\n",
    "\n",
    "search = driver.find_elements_by_class_name('anbima-ui-input-search__text')[1]\n",
    "search.send_keys(busca) # enviar o que queremos buscar\n",
    "search.send_keys(Keys.RETURN) # aperta enter\n",
    "\n",
    "time.sleep(3) # espera 3 segundos\n",
    "\n",
    "fundos = driver.find_elements_by_class_name('list-item__container')\n",
    "\n",
    "for f in fundos:\n",
    "    print(f.text)\n",
    "    print('='*80)\n",
    "\n",
    "driver.quit()"
   ]
  },
  {
   "cell_type": "markdown",
   "metadata": {},
   "source": [
    "- Podemos armazenar os dados em um dataframe"
   ]
  },
  {
   "cell_type": "code",
   "execution_count": 13,
   "metadata": {
    "ExecuteTime": {
     "end_time": "2021-05-06T18:17:27.979061Z",
     "start_time": "2021-05-06T18:17:13.827350Z"
    },
    "scrolled": true
   },
   "outputs": [],
   "source": [
    "fundo_nome = []\n",
    "fundo_tipo = []\n",
    "\n",
    "driver = webdriver.Chrome('./chromedriver')\n",
    "driver.get(url)\n",
    "\n",
    "search = driver.find_elements_by_class_name('anbima-ui-input-search__text')[1]\n",
    "search.send_keys(busca) # enviar o que queremos buscar\n",
    "search.send_keys(Keys.RETURN) # aperta enter\n",
    "\n",
    "time.sleep(3) # espera 3 segundos\n",
    "\n",
    "fundos = driver.find_elements_by_class_name('list-item__container')\n",
    "\n",
    "for f in fundos[:3]:\n",
    "    fundo_nome.append(f.find_element_by_class_name('list-item__title').text) # nome do fundo\n",
    "    fundo_tipo.append(f.find_element_by_class_name('normal-text').text) # tipo do fundo\n",
    "\n",
    "fundo_tipo = [i[19:] for i in fundo_tipo] # separando cnpj do tipo de fundo\n",
    "\n",
    "        \n",
    "driver.quit()"
   ]
  },
  {
   "cell_type": "code",
   "execution_count": 88,
   "metadata": {
    "ExecuteTime": {
     "end_time": "2021-05-06T18:18:05.080591Z",
     "start_time": "2021-05-06T18:17:51.445943Z"
    }
   },
   "outputs": [],
   "source": [
    "import pandas as pd"
   ]
  },
  {
   "cell_type": "code",
   "execution_count": 89,
   "metadata": {
    "ExecuteTime": {
     "end_time": "2021-05-06T18:18:05.160576Z",
     "start_time": "2021-05-06T18:18:05.117605Z"
    }
   },
   "outputs": [
    {
     "data": {
      "text/html": [
       "<div>\n",
       "<style scoped>\n",
       "    .dataframe tbody tr th:only-of-type {\n",
       "        vertical-align: middle;\n",
       "    }\n",
       "\n",
       "    .dataframe tbody tr th {\n",
       "        vertical-align: top;\n",
       "    }\n",
       "\n",
       "    .dataframe thead th {\n",
       "        text-align: right;\n",
       "    }\n",
       "</style>\n",
       "<table border=\"1\" class=\"dataframe\">\n",
       "  <thead>\n",
       "    <tr style=\"text-align: right;\">\n",
       "      <th></th>\n",
       "      <th>nome</th>\n",
       "      <th>tipo</th>\n",
       "    </tr>\n",
       "  </thead>\n",
       "  <tbody>\n",
       "    <tr>\n",
       "      <th>0</th>\n",
       "      <td>VERDE FICFI MULT</td>\n",
       "      <td>MULTIMERCADOS</td>\n",
       "    </tr>\n",
       "    <tr>\n",
       "      <th>1</th>\n",
       "      <td>VERDE AM G560 FC MULT</td>\n",
       "      <td>MULTIMERCADOS</td>\n",
       "    </tr>\n",
       "    <tr>\n",
       "      <th>2</th>\n",
       "      <td>VERDE AM VI60 FC MULT</td>\n",
       "      <td>MULTIMERCADOS</td>\n",
       "    </tr>\n",
       "  </tbody>\n",
       "</table>\n",
       "</div>"
      ],
      "text/plain": [
       "                    nome           tipo\n",
       "0       VERDE FICFI MULT  MULTIMERCADOS\n",
       "1  VERDE AM G560 FC MULT  MULTIMERCADOS\n",
       "2  VERDE AM VI60 FC MULT  MULTIMERCADOS"
      ]
     },
     "execution_count": 89,
     "metadata": {},
     "output_type": "execute_result"
    }
   ],
   "source": [
    "pd.DataFrame({'nome': fundo_nome, \n",
    "              'tipo': fundo_tipo})"
   ]
  }
 ],
 "metadata": {
  "hide_input": false,
  "kernelspec": {
   "display_name": "Python 3 (ipykernel)",
   "language": "python",
   "name": "python3"
  },
  "language_info": {
   "codemirror_mode": {
    "name": "ipython",
    "version": 3
   },
   "file_extension": ".py",
   "mimetype": "text/x-python",
   "name": "python",
   "nbconvert_exporter": "python",
   "pygments_lexer": "ipython3",
   "version": "3.10.0"
  },
  "toc": {
   "base_numbering": 1,
   "nav_menu": {},
   "number_sections": true,
   "sideBar": true,
   "skip_h1_title": false,
   "title_cell": "Table of Contents",
   "title_sidebar": "Contents",
   "toc_cell": false,
   "toc_position": {},
   "toc_section_display": true,
   "toc_window_display": false
  },
  "varInspector": {
   "cols": {
    "lenName": 16,
    "lenType": 16,
    "lenVar": 40
   },
   "kernels_config": {
    "python": {
     "delete_cmd_postfix": "",
     "delete_cmd_prefix": "del ",
     "library": "var_list.py",
     "varRefreshCmd": "print(var_dic_list())"
    },
    "r": {
     "delete_cmd_postfix": ") ",
     "delete_cmd_prefix": "rm(",
     "library": "var_list.r",
     "varRefreshCmd": "cat(var_dic_list()) "
    }
   },
   "types_to_exclude": [
    "module",
    "function",
    "builtin_function_or_method",
    "instance",
    "_Feature"
   ],
   "window_display": false
  }
 },
 "nbformat": 4,
 "nbformat_minor": 2
}
